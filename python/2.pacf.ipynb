{
 "cells": [
  {
   "cell_type": "markdown",
   "id": "4bcf3835-e86f-4fe4-b832-0378ad16b67a",
   "metadata": {},
   "source": [
    "<div style=\"border-radius: 10px; border: #DEB887 solid; padding: 15px; background-color: #FFFAF0; font-size: 70%; text-align: left\">\n",
    "<h3 align=\"left\"><font color='#3498DB'>偏自己回帰係数をプロットするテンプレート</font></h3>"
   ]
  },
  {
   "cell_type": "code",
   "execution_count": 2,
   "id": "3985ca12-db2f-4792-b059-8545a3e437e2",
   "metadata": {},
   "outputs": [],
   "source": [
    "import pandas as pd\n",
    "import numpy as np"
   ]
  },
  {
   "cell_type": "code",
   "execution_count": null,
   "id": "dda4742b-7ed3-435a-b27d-025a234c21c1",
   "metadata": {},
   "outputs": [],
   "source": [
    "x=pd.read_csv('')"
   ]
  },
  {
   "cell_type": "code",
   "execution_count": null,
   "id": "692acb57-f543-4c95-b0ad-d9fdc442f911",
   "metadata": {},
   "outputs": [],
   "source": [
    "dates = pd.data_range(start='', periods=len(x), freq ='')\n",
    "x.index = dates"
   ]
  },
  {
   "cell_type": "code",
   "execution_count": null,
   "id": "dfbea918-7184-4cd2-9574-5fc1f0ead829",
   "metadata": {},
   "outputs": [],
   "source": [
    "x.plot()\n",
    "plt.title('')\n",
    "plt.ylabel('')\n",
    "plt.show()"
   ]
  },
  {
   "cell_type": "code",
   "execution_count": null,
   "id": "3635b532-0a5b-4f4e-8c91-8d53b0092021",
   "metadata": {},
   "outputs": [],
   "source": [
    "from PythonTsa.plot_acf_pacf import acf_pacf_fig\n",
    "acf_pacf_fig(x, both= , lag= )\n",
    "plt.show"
   ]
  }
 ],
 "metadata": {
  "kernelspec": {
   "display_name": "Python 3 (ipykernel)",
   "language": "python",
   "name": "python3"
  },
  "language_info": {
   "codemirror_mode": {
    "name": "ipython",
    "version": 3
   },
   "file_extension": ".py",
   "mimetype": "text/x-python",
   "name": "python",
   "nbconvert_exporter": "python",
   "pygments_lexer": "ipython3",
   "version": "3.9.17"
  }
 },
 "nbformat": 4,
 "nbformat_minor": 5
}
