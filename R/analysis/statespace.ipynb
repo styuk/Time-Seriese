{
 "cells": [
  {
   "cell_type": "markdown",
   "id": "85a27898-5139-4f49-bef2-39b652b9d8c8",
   "metadata": {},
   "source": [
    "<div style=\"border-radius: 10px; border: #DEB887 solid; padding: 15px; background-color: #FFFAF0; font-size: 100%; text-align: left\">\n",
    "<h3 align=\"left\"><font color='#3498DB'> State Space Model</font></h3>"
   ]
  },
  {
   "cell_type": "code",
   "execution_count": 4,
   "id": "d2782d1a-ae24-42b6-bb25-9bb34eb7bbcc",
   "metadata": {},
   "outputs": [
    {
     "name": "stdout",
     "output_type": "stream",
     "text": [
      "\n",
      "  There is a binary version available but the source version is later:\n",
      "    binary source needs_compilation\n",
      "dlm  1.1-5  1.1-6              TRUE\n",
      "\n",
      "  Binaries will be installed\n",
      "package 'dlm' successfully unpacked and MD5 sums checked\n",
      "\n",
      "The downloaded binary packages are in\n",
      "\tC:\\Users\\satyk\\AppData\\Local\\Temp\\RtmpSSxLAv\\downloaded_packages\n"
     ]
    }
   ],
   "source": [
    "install.packages('dlm')"
   ]
  },
  {
   "cell_type": "code",
   "execution_count": 5,
   "id": "67184b8f-312e-42eb-8a3e-232e31dfc6e1",
   "metadata": {},
   "outputs": [
    {
     "name": "stderr",
     "output_type": "stream",
     "text": [
      "Warning message:\n",
      "\"package 'dlm' was built under R version 3.6.3\""
     ]
    },
    {
     "data": {
      "image/png": "[encoded data removed]",
      "text/plain": [
       "plot without title"
      ]
     },
     "metadata": {},
     "output_type": "display_data"
    }
   ],
   "source": [
    "# Wiener and Kalman smoothings for the AR(1) model\n",
    "# ライブラリの読み込み\n",
    "set.seed(23)\n",
    "library(dlm)\n",
    "\n",
    "# 状態空間モデル（AR(1)モデルを含む）の設定\n",
    "W <- 1\n",
    "V <- 2\n",
    "phi <- 0.98 # AR(1)の係数\n",
    "mod <- dlmModPoly(order = 1, dW = W, dV = V, C0 = 100)\n",
    "mod$GG[1, 1] <- phi\n",
    "\n",
    "# Kalman予測を使用して観測値を生成\n",
    "t_max <- 100\n",
    "sim_data <- dlmForecast(mod = mod, nAhead = t_max, sampleNew = 1)\n",
    "y <- sim_data$newObs[[1]]\n",
    "\n",
    "# Kalman平滑\n",
    "dlmSmoothed_obj <- dlmSmooth(y = y, mod = mod)\n",
    "s <- dropFirst(dlmSmoothed_obj$s)\n",
    "\n",
    "# Wiener平滑\n",
    "# 係数の設定\n",
    "r <- V / W\n",
    "b <- 1/(r*phi) + 1/phi + phi\n",
    "beta <- (b - sqrt(b^2 - 4)) / 2\n",
    "\n",
    "# 有限の観測値の前後に最低限必要なダミーの0を補完\n",
    "y_expand <- c(rep(0, t_max - 1), y, rep(0, t_max - 1))\n",
    "\n",
    "# Wiener平滑の実行\n",
    "d <- (1/phi - beta)*(phi - beta) / (1 - beta^2) *\n",
    "  filter(method = \"convolution\",\n",
    "         filter = beta^abs(-(t_max-1):(t_max-1)), x = y_expand\n",
    "  )\n",
    "\n",
    "# 結果からダミーのNAを削除\n",
    "d <- d[!is.na(d)]\n",
    "\n",
    "# 結果のプロット\n",
    "ts.plot(cbind(y, d, s),\n",
    "        lty = c(\"solid\", \"dashed\", \"solid\"),\n",
    "        col = c(\"lightgray\", \"red\", \"blue\"),\n",
    "        ylab = \"\")\n",
    "\n",
    "# 凡例\n",
    "legend(legend = c(\"観測値\", \"Wiener平滑\", \"Kalman平滑\"),\n",
    "       lty = c(\"solid\", \"dashed\", \"solid\"),\n",
    "       col = c(\"lightgray\", \"red\", \"blue\"),\n",
    "       x = \"topright\", text.width = 17, cex = 0.6)"
   ]
  },
  {
   "cell_type": "code",
   "execution_count": 7,
   "id": "920cd1cb-5ab7-442b-9897-5e575a6632a9",
   "metadata": {},
   "outputs": [
    {
     "ename": "ERROR",
     "evalue": "Error in Kalman_filtering(m0, C0, t = 1):  関数 \"Kalman_filtering\" を見つけることができませんでした \n",
     "output_type": "error",
     "traceback": [
      "Error in Kalman_filtering(m0, C0, t = 1):  関数 \"Kalman_filtering\" を見つけることができませんでした \nTraceback:\n"
     ]
    }
   ],
   "source": [
    "#一つの時間点でフィルタリングを実行する関数の定義\n",
    "kalman_filtering <- function(m_t_minus_1, t){\n",
    "  #一時点先の予測分布\n",
    "  a_t <- G_t %*% m_t_minus_1\n",
    "  R_t <- G_t %*% C_t_minus_1 %*% t(G_t) + W_t\n",
    "\n",
    "  #一時点先の予測尤度\n",
    "  f_t <- F_t %*% a_t\n",
    "  Q_t <- F_t %*% R_t %*% t(F_t) + V_t\n",
    "\n",
    "  #カルマンゲイン\n",
    "  K_t <- R_t %*% t(F_t) %*% solve(Q_t)\n",
    "\n",
    "  #状態の更新\n",
    "  m_t <- a_t + k_t %*% (y[t] - f_t)\n",
    "  C_t <- (diag(nrow(R_t)) - K_t %*% F_t) %*% R_t\n",
    "\n",
    "  #フィルタリング分布の平均と分散(および一時点先予測分布)を返す。\n",
    "  return(list(m = m_t, C=C_t, a= a_t, R=R_t))\n",
    "}\n",
    "\n",
    "  #線形ガウス状態空間モデルのパラメータの設定(すべて1×1の行列)\n",
    "  G_t <- matrix(1, ncol=1, nrow=1)\n",
    "  W_t <- matrix(exp(7.29), ncol=1, nrow=1)\n",
    "  F_t <- matrix(1, ncol=1, nrow=1)\n",
    "  V_t <- matrix(exp(9.63), ncol=1, nrow=1)\n",
    "  m0 <- matrix(0, ncol=1, nrow=1)\n",
    "  C0 <- matrix(1e+7, ncol=1, nrow=1)\n",
    "\n",
    "  #フィルタリング分布の平均と分散、および一時点先予測分布を計算\n",
    "\n",
    "  #状態(平均と共分散)のメモリ確保\n",
    "  m <- rep(NA_real_, t_max)\n",
    "  C <- rep(NA_real_, t_max)\n",
    "  a <- rep(NA_real_, t_max)\n",
    "  R <- rep(NA_real_, t_max)\n",
    "\n",
    "  #時間点: t=1\n",
    "  KF <- Kalman_filtering(m0, C0, t=1)\n",
    "  m[1] <- KF$C\n",
    "  C[1] <- KF$a\n",
    "  a[1] <- KF$a\n",
    "  R[1] <- KF$R\n",
    "\n",
    "  #時間点: t=2からt_max\n",
    "  for (t in 2:t_max) {\n",
    "     KF <- Kalman_filtering(m[t-1], C[t-1], t=t)\n",
    "     m[t] <- KF$m\n",
    "     C[t] <- KF$C\n",
    "     a[t] <- KF$a\n",
    "     R[t] <- KF$R\n",
    "}\n"
   ]
  },
  {
   "cell_type": "code",
   "execution_count": null,
   "id": "6e6cc7a6-868e-41c8-9187-a72af49681f2",
   "metadata": {},
   "outputs": [],
   "source": []
  }
 ],
 "metadata": {
  "kernelspec": {
   "display_name": "R",
   "language": "R",
   "name": "ir"
  },
  "language_info": {
   "codemirror_mode": "r",
   "file_extension": ".r",
   "mimetype": "text/x-r-source",
   "name": "R",
   "pygments_lexer": "r",
   "version": "3.6.1"
  }
 },
 "nbformat": 4,
 "nbformat_minor": 5
}
